{
 "cells": [
  {
   "cell_type": "code",
   "execution_count": 3,
   "id": "b4a07150-bed4-44e6-afed-4efc3770b8d7",
   "metadata": {},
   "outputs": [],
   "source": [
    "import torch\n",
    "import torchvision\n",
    "from torchvision.transforms import ToTensor\n",
    "import matplotlib.pyplot as plt"
   ]
  },
  {
   "cell_type": "code",
   "execution_count": 46,
   "id": "4ad03b40-53cb-432e-b7e5-60c8742d3c62",
   "metadata": {},
   "outputs": [],
   "source": [
    "train_data = torchvision.datasets.MNIST(root='images', transform=ToTensor())"
   ]
  },
  {
   "cell_type": "code",
   "execution_count": 47,
   "id": "30ef01f3-dd7c-481f-8cf0-b663d27c64e9",
   "metadata": {},
   "outputs": [],
   "source": [
    "images_of_eights = train_data.data[train_data.targets == 8]\n",
    "images_of_eights = images_of_eights.float()\n",
    "\n",
    "images_of_eights /= 255\n",
    "images_of_eights = images_of_eights * 2 - 1"
   ]
  },
  {
   "cell_type": "code",
   "execution_count": 48,
   "id": "1fec5431-5838-4332-9c3b-5859b755c75d",
   "metadata": {},
   "outputs": [],
   "source": [
    "T = 1000\n",
    "beta = torch.linspace(1.0e-4, 2.0e-2, T)\n",
    "alpha = 1. - beta\n",
    "alpha_bar = torch.cumprod(alpha, axis=0)\n",
    "means = torch.sqrt(alpha_bar)\n",
    "variances = 1 - alpha_bar"
   ]
  },
  {
   "cell_type": "code",
   "execution_count": 49,
   "id": "06b3b32b-bdd4-4d34-8ebd-a06e877d344a",
   "metadata": {},
   "outputs": [],
   "source": [
    "def forward_step(image: torch.Tensor, t: int) -> torch.Tensor:\n",
    "    noise = torch.randn_like(image)\n",
    "    \n",
    "    scaled_up_noise = means[t] + noise * variances[t]\n",
    "    \n",
    "    return image + scaled_up_noise, scaled_up_noise"
   ]
  },
  {
   "cell_type": "code",
   "execution_count": 52,
   "id": "a3b81221-b6ef-4987-ae66-af71fce2d7da",
   "metadata": {},
   "outputs": [],
   "source": [
    "img, noise = forward_step(images_of_eights[21] , 999)"
   ]
  },
  {
   "cell_type": "code",
   "execution_count": null,
   "id": "1a19ed12-dea0-4146-857f-3307556f4a8a",
   "metadata": {},
   "outputs": [],
   "source": []
  },
  {
   "cell_type": "code",
   "execution_count": 53,
   "id": "4e6c7d21-d15a-4920-bacd-55392f90069d",
   "metadata": {},
   "outputs": [
    {
     "data": {
      "image/png": "[encoded data removed]",
      "text/plain": [
       "<Figure size 640x480 with 1 Axes>"
      ]
     },
     "metadata": {},
     "output_type": "display_data"
    }
   ],
   "source": [
    "plt.imshow(img)\n",
    "\n",
    "plt.show()"
   ]
  }
 ],
 "metadata": {
  "kernelspec": {
   "display_name": "Python 3 (ipykernel)",
   "language": "python",
   "name": "python3"
  },
  "language_info": {
   "codemirror_mode": {
    "name": "ipython",
    "version": 3
   },
   "file_extension": ".py",
   "mimetype": "text/x-python",
   "name": "python",
   "nbconvert_exporter": "python",
   "pygments_lexer": "ipython3",
   "version": "3.10.8"
  }
 },
 "nbformat": 4,
 "nbformat_minor": 5
}
